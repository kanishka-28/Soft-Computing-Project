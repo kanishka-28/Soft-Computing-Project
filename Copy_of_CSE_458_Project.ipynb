{
  "nbformat": 4,
  "nbformat_minor": 0,
  "metadata": {
    "accelerator": "TPU",
    "colab": {
      "provenance": [],
      "include_colab_link": true
    },
    "kernelspec": {
      "display_name": "Python 3",
      "name": "python3"
    }
  },
  "cells": [
    {
      "cell_type": "markdown",
      "metadata": {
        "id": "view-in-github",
        "colab_type": "text"
      },
      "source": [
        "<a href=\"https://colab.research.google.com/github/kanishka-28/Soft-Computing-Project/blob/master/Copy_of_CSE_458_Project.ipynb\" target=\"_parent\"><img src=\"https://colab.research.google.com/assets/colab-badge.svg\" alt=\"Open In Colab\"/></a>"
      ]
    },
    {
      "cell_type": "markdown",
      "metadata": {
        "id": "d4fkJM_gwQrf"
      },
      "source": [
        "#Kaggle API"
      ]
    },
    {
      "cell_type": "code",
      "metadata": {
        "id": "fwOHTiyRqam6"
      },
      "source": [
        "! pip install -q kaggle\n",
        "from google.colab import files\n",
        "files.upload()\n",
        "! mkdir ~/.kaggle\n",
        "! cp kaggle.json ~/.kaggle/\n",
        "! chmod 600 ~/.kaggle/kaggle.json"
      ],
      "execution_count": null,
      "outputs": []
    },
    {
      "cell_type": "code",
      "metadata": {
        "id": "RCIlETmcqAwC"
      },
      "source": [
        "! kaggle datasets download -d paultimothymooney/chest-xray-pneumonia"
      ],
      "execution_count": null,
      "outputs": []
    },
    {
      "cell_type": "code",
      "metadata": {
        "id": "PVG-HSKfu6sz"
      },
      "source": [
        "import zipfile\n",
        "\n",
        "zf = \"/content/chest-xray-pneumonia.zip\"\n",
        "target_dir = \"/content/images\"\n",
        "\n",
        "zfile = zipfile.ZipFile(zf)\n",
        "zfile.extractall(target_dir)"
      ],
      "execution_count": null,
      "outputs": []
    },
    {
      "cell_type": "markdown",
      "metadata": {
        "id": "f0d9OOAdCqkt"
      },
      "source": [
        "# 1 Set up"
      ]
    },
    {
      "cell_type": "code",
      "metadata": {
        "id": "OPQ6QDVlCIzI"
      },
      "source": [
        "import matplotlib.pyplot as plt\n",
        "import numpy as np\n",
        "import pandas as pd"
      ],
      "execution_count": null,
      "outputs": []
    },
    {
      "cell_type": "markdown",
      "metadata": {
        "id": "vIShttquDuND"
      },
      "source": [
        "## 1.1 Define Constants"
      ]
    },
    {
      "cell_type": "code",
      "metadata": {
        "id": "fqJZa3arDwwJ"
      },
      "source": [
        "train_path = '/content/images/chest_xray/train'\n",
        "test_path = '/content/images/chest_xray/test'\n",
        "valid_path = '/content/images/chest_xray/val'"
      ],
      "execution_count": null,
      "outputs": []
    },
    {
      "cell_type": "code",
      "metadata": {
        "id": "HARIiHrzEySz"
      },
      "source": [
        "\n",
        "#Define standard parameter values\n",
        "batch_size = 16\n",
        "img_height = 500\n",
        "img_width = 500\n"
      ],
      "execution_count": null,
      "outputs": []
    },
    {
      "cell_type": "markdown",
      "metadata": {
        "id": "tkZjn7NS7t2n"
      },
      "source": [
        "# 2 Preparing Data"
      ]
    },
    {
      "cell_type": "markdown",
      "metadata": {
        "id": "Ncc1O6w-4DkZ"
      },
      "source": [
        "### 2.1 Image Data Augmentation"
      ]
    },
    {
      "cell_type": "code",
      "metadata": {
        "id": "2HqL0LBA3mOC"
      },
      "source": [
        "from tensorflow.keras.preprocessing.image import ImageDataGenerator, array_to_img\n",
        "\n",
        "image_gen = ImageDataGenerator(\n",
        "                                   rescale = 1./255,\n",
        "                                   shear_range = 0.2,\n",
        "                                   zoom_range = 0.2,\n",
        "                                   horizontal_flip = True,\n",
        "                              \n",
        "                               )  \n",
        "\n",
        "test_data_gen = ImageDataGenerator(rescale = 1./255)\n",
        "\n",
        "\n",
        "\n",
        "train = image_gen.flow_from_directory(\n",
        "    train_path,\n",
        "    target_size=(img_height, img_width),\n",
        "    color_mode='grayscale',\n",
        "    class_mode='binary',\n",
        "    batch_size=batch_size\n",
        "                                      )\n",
        "\n",
        "test = test_data_gen.flow_from_directory(\n",
        "      test_path,\n",
        "      target_size=(img_height, img_width),\n",
        "      color_mode='grayscale',shuffle=False,\n",
        "      class_mode='binary',\n",
        "      batch_size=batch_size\n",
        "      )\n",
        "valid = test_data_gen.flow_from_directory(\n",
        "      valid_path,\n",
        "      target_size=(img_height, img_width),\n",
        "      color_mode='grayscale',\n",
        "      class_mode='binary', \n",
        "      batch_size=batch_size\n",
        "      )"
      ],
      "execution_count": null,
      "outputs": []
    },
    {
      "cell_type": "code",
      "metadata": {
        "id": "Cb2yACWjWH01"
      },
      "source": [
        "type(train)\n",
        "train"
      ],
      "execution_count": null,
      "outputs": []
    },
    {
      "cell_type": "code",
      "metadata": {
        "id": "trq5Wx6OZfXK"
      },
      "source": [
        "plt.figure(figsize=(20, 12))\n",
        "for i in range(0, 10):\n",
        "    plt.subplot(2, 5, i+1)\n",
        "    for X_batch, Y_batch in train:\n",
        "        image = X_batch[0]        \n",
        "        dic = {0:'NORMAL', 1:'PNEUMONIA'}\n",
        "        plt.title(dic.get(Y_batch[0]))\n",
        "        plt.axis('off')\n",
        "        plt.imshow(np.squeeze(image),cmap='gray',interpolation='nearest')\n",
        "        break\n",
        "plt.tight_layout()\n",
        "plt.show()"
      ],
      "execution_count": null,
      "outputs": []
    },
    {
      "cell_type": "markdown",
      "metadata": {
        "id": "XvKy8d3_h-gc"
      },
      "source": [
        "# 3 Tensorflow - Keras"
      ]
    },
    {
      "cell_type": "code",
      "metadata": {
        "id": "RfeXspblliw3"
      },
      "source": [
        "from tensorflow.keras.models import Sequential,load_model,save_model\n",
        "from tensorflow.keras.layers import Dense,Conv2D,Flatten,MaxPooling2D\n",
        "from tensorflow.keras.callbacks import EarlyStopping,ReduceLROnPlateau"
      ],
      "execution_count": null,
      "outputs": []
    },
    {
      "cell_type": "markdown",
      "metadata": {
        "id": "mFIJzJvZrw5D"
      },
      "source": [
        "## 3.1 Convolutional Neural Network Model"
      ]
    },
    {
      "cell_type": "code",
      "metadata": {
        "id": "B5weZVzmiU6n"
      },
      "source": [
        "cnn = Sequential()\n",
        "\n",
        "cnn.add(Conv2D(32, (3, 3), activation=\"relu\", input_shape=(img_width, img_height, 1)))\n",
        "cnn.add(MaxPooling2D(pool_size = (2, 2)))\n",
        "\n",
        "cnn.add(Conv2D(32, (3, 3), activation=\"relu\", input_shape=(img_width, img_height, 1)))\n",
        "cnn.add(MaxPooling2D(pool_size = (2, 2)))\n",
        "\n",
        "cnn.add(Conv2D(32, (3, 3), activation=\"relu\", input_shape=(img_width, img_height, 1)))\n",
        "cnn.add(MaxPooling2D(pool_size = (2, 2)))\n",
        "\n",
        "cnn.add(Conv2D(64, (3, 3), activation=\"relu\", input_shape=(img_width, img_height, 1)))\n",
        "cnn.add(MaxPooling2D(pool_size = (2, 2)))\n",
        "\n",
        "cnn.add(Conv2D(64, (3, 3), activation=\"relu\", input_shape=(img_width, img_height, 1)))\n",
        "cnn.add(MaxPooling2D(pool_size = (2, 2)))\n",
        "\n",
        "cnn.add(Flatten())\n",
        "\n",
        "cnn.add(Dense(activation = 'relu', units = 128))\n",
        "cnn.add(Dense(activation = 'relu', units = 64))\n",
        "cnn.add(Dense(activation = 'sigmoid', units = 1))\n",
        "\n",
        "\n",
        "cnn.compile(optimizer = 'adam', loss = 'binary_crossentropy', metrics = ['accuracy'])"
      ],
      "execution_count": null,
      "outputs": []
    },
    {
      "cell_type": "code",
      "metadata": {
        "id": "_N-fJYMgwvxR"
      },
      "source": [
        "cnn.summary()"
      ],
      "execution_count": null,
      "outputs": []
    },
    {
      "cell_type": "code",
      "metadata": {
        "id": "NkzIXtmV3lC7"
      },
      "source": [
        "from tensorflow.keras.utils import plot_model\n",
        "plot_model(cnn,show_shapes=True, show_layer_names=True, rankdir='TB', expand_nested=True)"
      ],
      "execution_count": null,
      "outputs": []
    },
    {
      "cell_type": "markdown",
      "metadata": {
        "id": "NVzwAKyo_4Gb"
      },
      "source": [
        "## 3.2 Fit Model"
      ]
    },
    {
      "cell_type": "code",
      "metadata": {
        "id": "Aiw4SPH28S_S"
      },
      "source": [
        "early = EarlyStopping(monitor=\"val_loss\", \n",
        "                      mode=\"min\", \n",
        "                      patience=3)\n",
        "\n",
        "learning_rate_reduction = ReduceLROnPlateau(monitor='val_loss', patience = 2, verbose=1,factor=0.3, min_lr=0.000001)\n",
        "\n",
        "callbacks_list = [ early, learning_rate_reduction]"
      ],
      "execution_count": null,
      "outputs": []
    },
    {
      "cell_type": "code",
      "metadata": {
        "id": "FhMkSOX2-PR3"
      },
      "source": [
        "from sklearn.utils.class_weight import compute_class_weight\n",
        "weights = compute_class_weight('balanced',classes = np.unique(train.classes),y= train.classes)\n",
        "cw = dict(zip( np.unique(train.classes), weights))\n",
        "print(cw)"
      ],
      "execution_count": null,
      "outputs": []
    },
    {
      "cell_type": "code",
      "metadata": {
        "id": "eppvu633ETjW"
      },
      "source": [
        "cnn.fit(train,epochs=7, validation_data=valid, class_weight=cw, callbacks=callbacks_list)"
      ],
      "execution_count": null,
      "outputs": []
    },
    {
      "cell_type": "markdown",
      "metadata": {
        "id": "x6uHB_zLCuQk"
      },
      "source": [
        "##3.3 Evaluation"
      ]
    },
    {
      "cell_type": "code",
      "metadata": {
        "id": "TOdhXZD1c7kT"
      },
      "source": [
        "pd.DataFrame(cnn.history.history).plot()"
      ],
      "execution_count": null,
      "outputs": []
    },
    {
      "cell_type": "code",
      "metadata": {
        "id": "aobcG5kT3ONp"
      },
      "source": [
        "test_accu = cnn.evaluate(test)\n",
        "print('The testing accuracy is :',test_accu[1]*100, '%')"
      ],
      "execution_count": null,
      "outputs": []
    },
    {
      "cell_type": "code",
      "metadata": {
        "id": "WabvnBbzYjtm"
      },
      "source": [
        "preds = cnn.predict(test,verbose=1)"
      ],
      "execution_count": null,
      "outputs": []
    },
    {
      "cell_type": "code",
      "metadata": {
        "id": "M7pNRGOURv5R"
      },
      "source": [
        "predictions = preds.copy()\n",
        "predictions[predictions <= 0.5] = 0\n",
        "predictions[predictions > 0.5] = 1"
      ],
      "execution_count": null,
      "outputs": []
    },
    {
      "cell_type": "code",
      "metadata": {
        "id": "zioov-9cUzoe"
      },
      "source": [
        "from sklearn.metrics import classification_report,confusion_matrix\n",
        "\n",
        "cm = pd.DataFrame(data=confusion_matrix(test.classes, predictions, labels=[0, 1]),\n",
        "                  index=[\"Actual Normal\", \"Actual Pneumonia\"],\n",
        "                  columns=[\"Predicted Normal\", \"Predicted Pneumonia\"])\n",
        "import seaborn as sns\n",
        "sns.heatmap(cm,annot=True,fmt=\"d\")"
      ],
      "execution_count": null,
      "outputs": []
    },
    {
      "cell_type": "code",
      "metadata": {
        "id": "nbUlSI-dR1EV"
      },
      "source": [
        " print(classification_report(y_true=test.classes, y_pred=predictions,\n",
        "                            target_names =['NORMAL','PNEUMONIA']\n",
        " ))"
      ],
      "execution_count": null,
      "outputs": []
    },
    {
      "cell_type": "code",
      "metadata": {
        "id": "rMyQY9CeiYnC"
      },
      "source": [
        "test.reset()\n",
        "x=np.concatenate([test.next()[0] for i in range(test.__len__())])\n",
        "y=np.concatenate([test.next()[1] for i in range(test.__len__())])\n",
        "print(x.shape)\n",
        "print(y.shape)"
      ],
      "execution_count": null,
      "outputs": []
    },
    {
      "cell_type": "code",
      "metadata": {
        "id": "qfzC_dhzAG8l"
      },
      "source": [
        "dic = {0:'NORMAL', 1:'PNEUMONIA'}\n",
        "plt.figure(figsize=(20,20))\n",
        "# for i in range(0+228, 9+228):\n",
        "for i in range(0+8, 7+8):\n",
        "\n",
        "  plt.subplot(3, 3, (i-8)+1)\n",
        "  if preds[i, 0] >= 0.5: \n",
        "      out = ('{:.2%} probability of being Pneumonia case'.format(preds[i][0]))\n",
        "      \n",
        "      \n",
        "  else: \n",
        "      out = ('{:.2%} probability of being Normal case'.format(1-preds[i][0]))\n",
        "      \n",
        "      \n",
        "\n",
        "  plt.title(out+\"\\n Actual case : \"+ dic.get(y[i]))    \n",
        "  plt.imshow(np.squeeze(x[i]))\n",
        "  plt.axis('off')\n",
        "plt.show()"
      ],
      "execution_count": null,
      "outputs": []
    },
    {
      "cell_type": "code",
      "metadata": {
        "id": "k5CT_0OHRiGf"
      },
      "source": [
        "files.upload()"
      ],
      "execution_count": null,
      "outputs": []
    },
    {
      "cell_type": "code",
      "source": [
        "from google.colab import drive\n",
        "drive.mount('/content/drive')"
      ],
      "metadata": {
        "id": "jut8coVURutH"
      },
      "execution_count": null,
      "outputs": []
    },
    {
      "cell_type": "code",
      "metadata": {
        "id": "Gw6CCsTVcdj2"
      },
      "source": [
        "import joblib\n",
        "cnn.save('FinalModel_epochs_7.h5')"
      ],
      "execution_count": null,
      "outputs": []
    },
    {
      "cell_type": "code",
      "metadata": {
        "id": "Tn3zmXAVf4uc"
      },
      "source": [
        "cnn = load_model('FinalModel_epochs_7.h5')"
      ],
      "execution_count": null,
      "outputs": []
    },
    {
      "cell_type": "code",
      "metadata": {
        "id": "MzI-U_Rft98-"
      },
      "source": [
        "xray_image_path = '/content/person1946_bacteria_4875.jpeg'\n",
        "\n",
        "from tensorflow.keras.preprocessing import image\n",
        "\n",
        "xray_image = image.load_img(xray_image_path, target_size=(500, 500),color_mode='grayscale')\n",
        "\n",
        "# Preprocessing the image\n",
        "pp_xray_image = image.img_to_array(xray_image)\n",
        "pp_xray_image = pp_xray_image/255\n",
        "pp_xray_image = np.expand_dims(pp_xray_image, axis=0)\n",
        "\n",
        "#predict\n",
        "xray_preds= cnn.predict(pp_xray_image)\n",
        "\n",
        "#print\n",
        "plt.figure(figsize=(6,6))\n",
        "plt.axis('off')\n",
        "if xray_preds>= 0.5: \n",
        "    out = ('It is {:.2%} percent confirmed that this is a Pneumonia case'.format(xray_preds[0][0]))\n",
        "    \n",
        "else: \n",
        "    out = ('It is {:.2%} percent confirmed that this is a Normal case'.format(1-xray_preds[0][0]))\n",
        "    \n",
        "\n",
        "plt.title(\"X-Ray\\n\"+out)  \n",
        "plt.imshow(np.squeeze(pp_xray_image))\n",
        "plt.show()"
      ],
      "execution_count": null,
      "outputs": []
    }
  ]
}